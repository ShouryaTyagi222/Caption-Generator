{
 "cells": [
  {
   "cell_type": "code",
   "execution_count": 2,
   "metadata": {
    "colab": {
     "base_uri": "https://localhost:8080/"
    },
    "executionInfo": {
     "elapsed": 63,
     "status": "ok",
     "timestamp": 1683873788584,
     "user": {
      "displayName": "Shourya Tyagi",
      "userId": "13285670266836655048"
     },
     "user_tz": -330
    },
    "id": "GdKOwY68sbb8",
    "outputId": "942f68d6-47ba-4176-d94b-657d9cbe9fb8"
   },
   "outputs": [
    {
     "name": "stdout",
     "output_type": "stream",
     "text": [
      "mkdir: cannot create directory ‘/root/.kaggle’: File exists\n"
     ]
    }
   ],
   "source": [
    "!mkdir ~/.kaggle"
   ]
  },
  {
   "cell_type": "code",
   "execution_count": 3,
   "metadata": {
    "executionInfo": {
     "elapsed": 572,
     "status": "ok",
     "timestamp": 1683873789127,
     "user": {
      "displayName": "Shourya Tyagi",
      "userId": "13285670266836655048"
     },
     "user_tz": -330
    },
    "id": "Xtd6JwMFsbhU"
   },
   "outputs": [],
   "source": [
    "!cp /content/drive/MyDrive/kaggle_api/kaggle.json ~/.kaggle/"
   ]
  },
  {
   "cell_type": "code",
   "execution_count": 4,
   "metadata": {
    "executionInfo": {
     "elapsed": 531,
     "status": "ok",
     "timestamp": 1683873813664,
     "user": {
      "displayName": "Shourya Tyagi",
      "userId": "13285670266836655048"
     },
     "user_tz": -330
    },
    "id": "d6BYqGtbsbjF"
   },
   "outputs": [],
   "source": [
    "! chmod 600 ~/.kaggle/kaggle.json"
   ]
  },
  {
   "cell_type": "code",
   "execution_count": null,
   "metadata": {
    "id": "43fRF8Eysblp"
   },
   "outputs": [],
   "source": []
  },
  {
   "cell_type": "code",
   "execution_count": null,
   "metadata": {
    "id": "cb9up7rXsbor"
   },
   "outputs": [],
   "source": []
  },
  {
   "cell_type": "code",
   "execution_count": null,
   "metadata": {
    "id": "NZxeaMEYsbqH"
   },
   "outputs": [],
   "source": [
    "import numpy as np\n",
    "import pandas as pd\n",
    "import os\n",
    "from tqdm.notebook import tqdm\n",
    "\n",
    "from tensorflow.keras.application.vgg16 import VGG16, preprocess_input"
   ]
  }
 ],
 "metadata": {
  "colab": {
   "authorship_tag": "ABX9TyOoOP0sIhYkKHb28fv6B/j3",
   "mount_file_id": "12NYSA8reTFckJVofIpat8pEcgCFpR_c7",
   "provenance": []
  },
  "kernelspec": {
   "display_name": "Python 3 (ipykernel)",
   "language": "python",
   "name": "python3"
  },
  "language_info": {
   "codemirror_mode": {
    "name": "ipython",
    "version": 3
   },
   "file_extension": ".py",
   "mimetype": "text/x-python",
   "name": "python",
   "nbconvert_exporter": "python",
   "pygments_lexer": "ipython3",
   "version": "3.10.7"
  }
 },
 "nbformat": 4,
 "nbformat_minor": 1
}
